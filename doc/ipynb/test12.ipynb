{
 "cells": [
  {
   "cell_type": "markdown",
   "metadata": {},
   "source": [
    "# Automatic generation of Notebook using PyCropML\n",
    "This notebook implements a crop model."
   ]
  },
  {
   "cell_type": "code",
   "execution_count": null,
   "metadata": {},
   "outputs": [],
   "source": [
    "import numpy as np \n",
    "from copy import copy\n",
    "from math import *\n",
    "\n",
    "def soilheatflux(netRadiationEquivalentEvaporation=638.142,\n",
    "                 tau=0.9983,\n",
    "                 soilEvaporation=448.24):\n",
    "    \"\"\"\n",
    "\n",
    "\n",
    "    SoilHeatFlux Model\n",
    "    Author: Pierre Martre\n",
    "    Reference: Modelling energy balance in the wheat crop model SiriusQuality2:\n",
    "            Evapotranspiration and canopy and soil temperature calculations\n",
    "    Institution: INRA/LEPSE Montpellier\n",
    "    Abstract: The available energy in the soil \n",
    "\n",
    "    \"\"\"\n",
    "    soilHeatFlux = tau * netRadiationEquivalentEvaporation - soilEvaporation\n",
    "    return  soilHeatFlux\n"
   ]
  },
  {
   "cell_type": "markdown",
   "metadata": {},
   "source": [
    "## Run the model with a set of parameters.\n",
    "Each run will be defined in its own cell."
   ]
  },
  {
   "cell_type": "code",
   "execution_count": null,
   "metadata": {},
   "outputs": [],
   "source": [
    "params= soilheatflux(\n",
    "    soilEvaporation = 448.240,\n",
    "    tau = 0.9983,\n",
    "    netRadiationEquivalentEvaporation = 638.142,\n",
    "     )\n",
    "print('soilHeatFlux_estimated =')\n",
    "print(round(params, 3))\n",
    "# soilHeatFlux_computed = 188.817"
   ]
  }
 ],
 "metadata": {},
 "nbformat": 4,
 "nbformat_minor": 2
}
