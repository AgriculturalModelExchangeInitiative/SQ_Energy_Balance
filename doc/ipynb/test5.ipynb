{
 "cells": [
  {
   "cell_type": "markdown",
   "metadata": {},
   "source": [
    "# Automatic generation of Notebook using PyCropML\n",
    "This notebook implements a crop model."
   ]
  },
  {
   "cell_type": "code",
   "execution_count": null,
   "metadata": {},
   "outputs": [],
   "source": [
    "import numpy as np \n",
    "from copy import copy\n",
    "from math import *\n",
    "\n",
    "def netradiation(minTair=0.7,\n",
    "                 maxTair=7.2,\n",
    "                 albedoCoefficient=0.23,\n",
    "                 stefanBoltzman=4.903e-09,\n",
    "                 elevation=0.0,\n",
    "                 solarRadiation=3.0,\n",
    "                 vaporPressure=6.1,\n",
    "                 extraSolarRadiation=11.7):\n",
    "    \"\"\"\n",
    "\n",
    "\n",
    "    NetRadiation Model\n",
    "    Author: Pierre Martre\n",
    "    Reference: Modelling energy balance in the wheat crop model SiriusQuality2:\n",
    "            Evapotranspiration and canopy and soil temperature calculations\n",
    "    Institution: INRA Montpellier\n",
    "    Abstract: It is calculated at the surface of the canopy and is givenby the difference between incoming and outgoing radiation of both short \n",
    "                     and long wavelength radiation \n",
    "\n",
    "    \"\"\"\n",
    "    Nsr = (1 - albedoCoefficient) * solarRadiation\n",
    "    clearSkySolarRadiation = (0.75 + 2 * pow(10, -5) * elevation) * extraSolarRadiation\n",
    "    averageT = (pow(maxTair + 273.16, 4) + pow(minTair + 273.16, 4)) / 2\n",
    "    surfaceEmissivity = (0.34 - 0.14 * sqrt(vaporPressure / 10))\n",
    "    cloudCoverFactor = (1.35 * (solarRadiation / clearSkySolarRadiation) - 0.35)\n",
    "    Nolr = stefanBoltzman * averageT * surfaceEmissivity * cloudCoverFactor\n",
    "    netRadiation= Nsr - Nolr\n",
    "    netOutGoingLongWaveRadiation = Nolr\n",
    "    return  netRadiation, netOutGoingLongWaveRadiation\n"
   ]
  },
  {
   "cell_type": "markdown",
   "metadata": {},
   "source": [
    "## Run the model with a set of parameters.\n",
    "Each run will be defined in its own cell."
   ]
  },
  {
   "cell_type": "code",
   "execution_count": null,
   "metadata": {},
   "outputs": [],
   "source": [
    "params= netradiation(\n",
    "    solarRadiation = 3,\n",
    "    elevation = 0,\n",
    "    vaporPressure = 6.1,\n",
    "     )\n",
    "print('netRadiation_estimated =')\n",
    "print(round(params[0], 3))\n",
    "# netRadiation_computed = 1.566\n",
    "print('netOutGoingLongWaveRadiation_estimated =')\n",
    "print(round(params[1], 3))\n",
    "# netOutGoingLongWaveRadiation_computed = 0.744"
   ]
  }
 ],
 "metadata": {},
 "nbformat": 4,
 "nbformat_minor": 2
}
