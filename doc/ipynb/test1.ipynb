{
 "cells": [
  {
   "cell_type": "markdown",
   "metadata": {},
   "source": [
    "# Automatic generation of Notebook using PyCropML\n",
    "This notebook implements a crop model."
   ]
  },
  {
   "cell_type": "code",
   "execution_count": null,
   "metadata": {},
   "outputs": [],
   "source": [
    "import numpy as np \n",
    "from copy import copy\n",
    "from math import *\n",
    "\n",
    "def conductance(vonKarman=0.42,\n",
    "                heightWeatherMeasurements=2.0,\n",
    "                zm=0.13,\n",
    "                zh=0.013,\n",
    "                d=0.67,\n",
    "                plantHeight=0.0,\n",
    "                wind=124000.0):\n",
    "    \"\"\"\n",
    "\n",
    "\n",
    "    Conductance Model\n",
    "    Author: Pierre Martre\n",
    "    Reference: Modelling energy balance in the wheat crop model SiriusQuality2:\n",
    "            Evapotranspiration and canopy and soil temperature calculations\n",
    "    Institution: INRA/LEPSE Montpellier\n",
    "    Abstract: The boundary layer conductance is expressed as the wind speed profile above the\n",
    "            canopy and the canopy structure. The approach does not take into account buoyancy\n",
    "            effects. \n",
    "\n",
    "    \"\"\"\n",
    "    h = max(10, plantHeight) / 100.0\n",
    "    conductance = (wind * pow(vonKarman, 2)) / (log((heightWeatherMeasurements - d * h) / (zm * h)) * log((heightWeatherMeasurements - d * h) / (zh * h)))\n",
    "    return  conductance\n"
   ]
  },
  {
   "cell_type": "markdown",
   "metadata": {},
   "source": [
    "## Run the model with a set of parameters.\n",
    "Each run will be defined in its own cell."
   ]
  },
  {
   "cell_type": "code",
   "execution_count": null,
   "metadata": {},
   "outputs": [],
   "source": [
    "params= conductance(\n",
    "    zm = 0.13,\n",
    "    zh = 0.013,\n",
    "    d = 0.67,\n",
    "    wind = 124000,\n",
    "    plantHeight = 0,\n",
    "     )\n",
    "print('conductance_estimated =')\n",
    "print(round(params, 3))\n",
    "# conductance_computed = 598.685"
   ]
  }
 ],
 "metadata": {},
 "nbformat": 4,
 "nbformat_minor": 2
}
