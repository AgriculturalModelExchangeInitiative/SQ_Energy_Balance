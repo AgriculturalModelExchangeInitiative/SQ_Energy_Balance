{
 "cells": [
  {
   "cell_type": "markdown",
   "metadata": {},
   "source": [
    "# Automatic generation of Notebook using PyCropML\n",
    "This notebook implements a crop model."
   ]
  },
  {
   "cell_type": "code",
   "execution_count": null,
   "metadata": {},
   "outputs": [],
   "source": [
    "import numpy as np \n",
    "from copy import copy\n",
    "from math import *\n",
    "\n",
    "def diffusionlimitedevaporation(deficitOnTopLayers=5341.0,\n",
    "                                soilDiffusionConstant=4.2):\n",
    "    \"\"\"\n",
    "\n",
    "\n",
    "    DiffusionLimitedEvaporation Model\n",
    "    Author: Pierre Martre\n",
    "    Reference: Modelling energy balance in the wheat crop model SiriusQuality2:\n",
    "            Evapotranspiration and canopy and soil temperature calculations\n",
    "    Institution: INRA Montpellier\n",
    "    Abstract: the evaporation from the diffusion limited soil \n",
    "\n",
    "    \"\"\"\n",
    "    if (deficitOnTopLayers / 1000.0 <= 0):\n",
    "    \tdiffusionLimitedEvaporation = 8.3 * 1000\n",
    "    else:\n",
    "    \tif (deficitOnTopLayers / 1000 < 25):\n",
    "    \t\tdiffusionLimitedEvaporation = (2 * soilDiffusionConstant * soilDiffusionConstant / (deficitOnTopLayers / 1000.0)) * 1000.0\n",
    "    \telse:\n",
    "    \t\tdiffusionLimitedEvaporation = 0\n",
    "    return  diffusionLimitedEvaporation\n"
   ]
  },
  {
   "cell_type": "markdown",
   "metadata": {},
   "source": [
    "## Run the model with a set of parameters.\n",
    "Each run will be defined in its own cell."
   ]
  },
  {
   "cell_type": "code",
   "execution_count": null,
   "metadata": {},
   "outputs": [],
   "source": [
    "params= diffusionlimitedevaporation(\n",
    "    deficitOnTopLayers = 5341,\n",
    "    soilDiffusionConstant = 4.2,\n",
    "     )\n",
    "print('diffusionLimitedEvaporation_estimated =')\n",
    "print(round(params, 3))\n",
    "# diffusionLimitedEvaporation_computed =  6605.505"
   ]
  }
 ],
 "metadata": {},
 "nbformat": 4,
 "nbformat_minor": 2
}
