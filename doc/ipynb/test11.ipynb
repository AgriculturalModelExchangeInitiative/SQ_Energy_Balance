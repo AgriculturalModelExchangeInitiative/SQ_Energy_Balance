{
 "cells": [
  {
   "cell_type": "markdown",
   "metadata": {},
   "source": [
    "# Automatic generation of Notebook using PyCropML\n",
    "This notebook implements a crop model."
   ]
  },
  {
   "cell_type": "code",
   "execution_count": null,
   "metadata": {},
   "outputs": [],
   "source": [
    "import numpy as np \n",
    "from copy import copy\n",
    "from math import *\n",
    "\n",
    "def soilevaporation(diffusionLimitedEvaporation=6605.505,\n",
    "                    energyLimitedEvaporation=448.24):\n",
    "    \"\"\"\n",
    "\n",
    "\n",
    "    SoilEvaporation Model\n",
    "    Author: Pierre Martre\n",
    "    Reference: Modelling energy balance in the wheat crop model SiriusQuality2:\n",
    "            Evapotranspiration and canopy and soil temperature calculations\n",
    "    Institution: INRA Montpellier\n",
    "    Abstract: Starting from a soil at field capacity, soil evaporation  is assumed to\n",
    "                be energy limited during the first phase of evaporation and diffusion limited thereafter.\n",
    "                Hence, the soil evaporation model considers these two processes taking the minimum between\n",
    "                the energy limited evaporation (PtSoil) and the diffused limited\n",
    "                evaporation \n",
    "\n",
    "    \"\"\"\n",
    "    soilEvaporation = min(diffusionLimitedEvaporation, energyLimitedEvaporation)\n",
    "    return  soilEvaporation\n"
   ]
  },
  {
   "cell_type": "markdown",
   "metadata": {},
   "source": [
    "## Run the model with a set of parameters.\n",
    "Each run will be defined in its own cell."
   ]
  },
  {
   "cell_type": "code",
   "execution_count": null,
   "metadata": {},
   "outputs": [],
   "source": [
    "params= soilevaporation(\n",
    "    diffusionLimitedEvaporation = 6605.505,\n",
    "    energyLimitedEvaporation = 448.240,\n",
    "     )\n",
    "print('soilEvaporation_estimated =')\n",
    "print(round(params, 3))\n",
    "# soilEvaporation_computed = 448.240"
   ]
  }
 ],
 "metadata": {},
 "nbformat": 4,
 "nbformat_minor": 2
}
