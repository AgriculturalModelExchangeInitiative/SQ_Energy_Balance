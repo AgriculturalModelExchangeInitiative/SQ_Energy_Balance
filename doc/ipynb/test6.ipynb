{
 "cells": [
  {
   "cell_type": "markdown",
   "metadata": {},
   "source": [
    "# Automatic generation of Notebook using PyCropML\n",
    "This notebook implements a crop model."
   ]
  },
  {
   "cell_type": "code",
   "execution_count": null,
   "metadata": {},
   "outputs": [],
   "source": [
    "import numpy as np \n",
    "from copy import copy\n",
    "from math import *\n",
    "\n",
    "def netradiationequivalentevaporation(lambdaV=2.454,\n",
    "                                      netRadiation=1.566):\n",
    "    \"\"\"\n",
    "\n",
    "\n",
    "    NetRadiationEquivalentEvaporation Model\n",
    "    Author: Pierre Martre\n",
    "    Reference: Modelling energy balance in the wheat crop model SiriusQuality2:\n",
    "            Evapotranspiration and canopy and soil temperature calculations\n",
    "    Institution: INRA/LEPSE Montpellier\n",
    "    Abstract:  It is given by dividing net radiation by latent heat of vaporization of water \n",
    "\n",
    "    \"\"\"\n",
    "    netRadiationEquivalentEvaporation = netRadiation / lambdaV * 1000.0\n",
    "    return  netRadiationEquivalentEvaporation\n"
   ]
  },
  {
   "cell_type": "markdown",
   "metadata": {},
   "source": [
    "## Run the model with a set of parameters.\n",
    "Each run will be defined in its own cell."
   ]
  },
  {
   "cell_type": "code",
   "execution_count": null,
   "metadata": {},
   "outputs": [],
   "source": [
    "params= netradiationequivalentevaporation(\n",
    "    netRadiation = 1.566,\n",
    "     )\n",
    "print('netRadiationEquivalentEvaporation_estimated =')\n",
    "print(round(params, 3))\n",
    "# netRadiationEquivalentEvaporation_computed = 638.142"
   ]
  }
 ],
 "metadata": {},
 "nbformat": 4,
 "nbformat_minor": 2
}
