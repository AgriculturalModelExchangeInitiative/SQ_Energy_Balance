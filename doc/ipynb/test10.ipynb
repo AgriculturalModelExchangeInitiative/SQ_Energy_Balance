{
 "cells": [
  {
   "cell_type": "markdown",
   "metadata": {},
   "source": [
    "# Automatic generation of Notebook using PyCropML\n",
    "This notebook implements a crop model."
   ]
  },
  {
   "cell_type": "code",
   "execution_count": null,
   "metadata": {},
   "outputs": [],
   "source": [
    "import numpy as np \n",
    "from copy import copy\n",
    "from math import *\n",
    "\n",
    "def ptsoil(evapoTranspirationPriestlyTaylor=120.0,\n",
    "           Alpha=1.5,\n",
    "           tau=0.9983,\n",
    "           tauAlpha=0.3):\n",
    "    \"\"\"\n",
    "\n",
    "\n",
    "    PtSoil EnergyLimitedEvaporation Model\n",
    "    Author: Pierre Martre\n",
    "    Reference: Modelling energy balance in the wheat crop model SiriusQuality2:\n",
    "            Evapotranspiration and canopy and soil temperature calculations\n",
    "    Institution: INRA Montpellier\n",
    "    Abstract: Evaporation from the soil in the energy-limited stage \n",
    "\n",
    "    \"\"\"\n",
    "    if (tau < tauAlpha):\n",
    "        AlphaE = 1\n",
    "    else :\n",
    "        AlphaE = Alpha - ((Alpha - 1.0) * (1.0 - tau) / (1.0 - tauAlpha))\n",
    "    energyLimitedEvaporation= (evapoTranspirationPriestlyTaylor / Alpha) * AlphaE * tau\n",
    "    return  energyLimitedEvaporation\n"
   ]
  },
  {
   "cell_type": "markdown",
   "metadata": {},
   "source": [
    "## Run the model with a set of parameters.\n",
    "Each run will be defined in its own cell."
   ]
  },
  {
   "cell_type": "code",
   "execution_count": null,
   "metadata": {},
   "outputs": [],
   "source": [
    "params= ptsoil(\n",
    "    evapoTranspirationPriestlyTaylor = 449.367,\n",
    "    tau = 0.9983,\n",
    "     )\n",
    "print('energyLimitedEvaporation_estimated =')\n",
    "print(round(params, 3))\n",
    "# energyLimitedEvaporation_computed = 448.240"
   ]
  }
 ],
 "metadata": {},
 "nbformat": 4,
 "nbformat_minor": 2
}
