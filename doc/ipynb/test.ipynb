{
 "cells": [
  {
   "cell_type": "markdown",
   "metadata": {},
   "source": [
    "# Automatic generation of Notebook using PyCropML\n",
    "This notebook implements a crop model."
   ]
  },
  {
   "cell_type": "code",
   "execution_count": null,
   "metadata": {},
   "outputs": [],
   "source": [
    "import numpy as np \n",
    "from copy import copy\n",
    "from math import *\n",
    "\n",
    "def canopytemperature(minTair=0.7,\n",
    "                      maxTair=7.2,\n",
    "                      cropHeatFlux=447.912,\n",
    "                      conductance=598.685,\n",
    "                      lambdaV=2.454,\n",
    "                      rhoDensityAir=1.225,\n",
    "                      specificHeatCapacityAir=0.00101):\n",
    "    \"\"\"\n",
    "\n",
    "\n",
    "    CanopyTemperature Model\n",
    "    Author: Pierre Martre\n",
    "    Reference: Modelling energy balance in the wheat crop model SiriusQuality2:\n",
    "            Evapotranspiration and canopy and soil temperature calculations\n",
    "    Institution: INRA/LEPSE Montpellier\n",
    "    Abstract: It is calculated from the crop heat flux and the boundary layer conductance \n",
    "\n",
    "    \"\"\"\n",
    "    minCanopyTemperature = minTair + cropHeatFlux / ((rhoDensityAir * specificHeatCapacityAir * conductance / lambdaV) * 1000)\n",
    "    maxCanopyTemperature = maxTair + cropHeatFlux / ((rhoDensityAir * specificHeatCapacityAir * conductance / lambdaV) * 1000)\n",
    "    return  minCanopyTemperature, maxCanopyTemperature\n"
   ]
  },
  {
   "cell_type": "markdown",
   "metadata": {},
   "source": [
    "## Run the model with a set of parameters.\n",
    "Each run will be defined in its own cell."
   ]
  },
  {
   "cell_type": "code",
   "execution_count": null,
   "metadata": {},
   "outputs": [],
   "source": [
    "params= canopytemperature(\n",
    "    maxTair = 7.2,\n",
    "    minTair = 0.7,\n",
    "    rhoDensityAir = 1.225,\n",
    "     )\n",
    "print('minCanopyTemperature_estimated =')\n",
    "print(round(params[0], 3))\n",
    "# minCanopyTemperature_computed = 2.184\n",
    "print('maxCanopyTemperature_estimated =')\n",
    "print(round(params[1], 3))\n",
    "# maxCanopyTemperature_computed = 8.684"
   ]
  }
 ],
 "metadata": {},
 "nbformat": 4,
 "nbformat_minor": 2
}
