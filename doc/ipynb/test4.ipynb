{
 "cells": [
  {
   "cell_type": "markdown",
   "metadata": {},
   "source": [
    "# Automatic generation of Notebook using PyCropML\n",
    "This notebook implements a crop model."
   ]
  },
  {
   "cell_type": "code",
   "execution_count": null,
   "metadata": {},
   "outputs": [],
   "source": [
    "import numpy as np \n",
    "from copy import copy\n",
    "from math import *\n",
    "\n",
    "def evapotranspiration(isWindVpDefined=1,\n",
    "                       evapoTranspirationPriestlyTaylor=449.367,\n",
    "                       evapoTranspirationPenman=830.958):\n",
    "    \"\"\"\n",
    "\n",
    "\n",
    "    Evapotranspiration Model\n",
    "    Author: Pierre Martre\n",
    "    Reference: Modelling energy balance in the wheat crop model SiriusQuality2:\n",
    "            Evapotranspiration and canopy and soil temperature calculations\n",
    "    Institution: INRA Montpellier\n",
    "    Abstract: According to the availability of wind and/or vapor pressure daily data, the\n",
    "            SiriusQuality2 model calculates the evapotranspiration rate using the Penman (if wind\n",
    "            and vapor pressure data are available) (Penman 1948) or the Priestly-Taylor\n",
    "            (Priestley and Taylor 1972) method \n",
    "\n",
    "    \"\"\"\n",
    "    if (isWindVpDefined == 1):\n",
    "        evapoTranspiration = evapoTranspirationPenman\n",
    "    else:\n",
    "        evapoTranspiration = evapoTranspirationPriestlyTaylor\n",
    "    return  evapoTranspiration\n"
   ]
  },
  {
   "cell_type": "markdown",
   "metadata": {},
   "source": [
    "## Run the model with a set of parameters.\n",
    "Each run will be defined in its own cell."
   ]
  },
  {
   "cell_type": "code",
   "execution_count": null,
   "metadata": {},
   "outputs": [],
   "source": [
    "params= evapotranspiration(\n",
    "    isWindVpDefined = 1,\n",
    "    evapoTranspirationPriestlyTaylor = 449.367,\n",
    "    evapoTranspirationPenman = 830.957,\n",
    "     )\n",
    "print('evapoTranspiration_estimated =')\n",
    "print(round(params, 3))\n",
    "# evapoTranspiration_computed = 830.957"
   ]
  }
 ],
 "metadata": {},
 "nbformat": 4,
 "nbformat_minor": 2
}
