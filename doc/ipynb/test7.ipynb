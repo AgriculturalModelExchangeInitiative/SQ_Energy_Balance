{
 "cells": [
  {
   "cell_type": "markdown",
   "metadata": {},
   "source": [
    "# Automatic generation of Notebook using PyCropML\n",
    "This notebook implements a crop model."
   ]
  },
  {
   "cell_type": "code",
   "execution_count": null,
   "metadata": {},
   "outputs": [],
   "source": [
    "import numpy as np \n",
    "from copy import copy\n",
    "from math import *\n",
    "\n",
    "def penman(evapoTranspirationPriestlyTaylor=449.367,\n",
    "           hslope=0.584,\n",
    "           VPDair=2.19,\n",
    "           psychrometricConstant=0.66,\n",
    "           Alpha=1.5,\n",
    "           lambdaV=2.454,\n",
    "           rhoDensityAir=1.225,\n",
    "           specificHeatCapacityAir=0.00101,\n",
    "           conductance=598.685):\n",
    "    \"\"\"\n",
    "\n",
    "\n",
    "    Penman Model\n",
    "    Author: Pierre Martre\n",
    "    Reference: Modelling energy balance in the wheat crop model SiriusQuality2:\n",
    "            Evapotranspiration and canopy and soil temperature calculations\n",
    "    Institution: INRA/LEPSE Montpellier\n",
    "    Abstract: This method is used when wind and vapor pressure daily data are available \n",
    "        \n",
    "\n",
    "    \"\"\"\n",
    "    evapoTranspirationPenman = evapoTranspirationPriestlyTaylor / Alpha + 1000 * ((rhoDensityAir * specificHeatCapacityAir * VPDair * conductance) / (lambdaV * (hslope + psychrometricConstant)))\n",
    "    return  evapoTranspirationPenman\n"
   ]
  },
  {
   "cell_type": "markdown",
   "metadata": {},
   "source": [
    "## Run the model with a set of parameters.\n",
    "Each run will be defined in its own cell."
   ]
  },
  {
   "cell_type": "code",
   "execution_count": null,
   "metadata": {},
   "outputs": [],
   "source": [
    "params= penman(\n",
    "    evapoTranspirationPriestlyTaylor = 449.367,\n",
    "    Alpha = 1.5,\n",
    "    lambdaV = 2.454,\n",
    "    hslope = 0.584,\n",
    "    VPDair = 2.19,\n",
    "     )\n",
    "print('evapoTranspirationPenman_estimated =')\n",
    "print(round(params, 3))\n",
    "# evapoTranspirationPenman_computed = 830.958"
   ]
  }
 ],
 "metadata": {},
 "nbformat": 4,
 "nbformat_minor": 2
}
