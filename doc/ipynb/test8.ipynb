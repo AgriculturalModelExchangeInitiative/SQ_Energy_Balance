{
 "cells": [
  {
   "cell_type": "markdown",
   "metadata": {},
   "source": [
    "# Automatic generation of Notebook using PyCropML\n",
    "This notebook implements a crop model."
   ]
  },
  {
   "cell_type": "code",
   "execution_count": null,
   "metadata": {},
   "outputs": [],
   "source": [
    "import numpy as np \n",
    "from copy import copy\n",
    "from math import *\n",
    "\n",
    "def potentialtranspiration(evapoTranspiration=830.958,\n",
    "                           tau=0.9983):\n",
    "    \"\"\"\n",
    "\n",
    "\n",
    "    PotentialTranspiration Model\n",
    "    Author: Pierre Martre\n",
    "    Reference: Modelling energy balance in the wheat crop model SiriusQuality2:\n",
    "            Evapotranspiration and canopy and soil temperature calculations\n",
    "    Institution: INRA/LEPSE Montpellier\n",
    "    Abstract: SiriusQuality2 uses availability of water from the soil reservoir as a method to restrict\n",
    "                    transpiration as soil moisture is depleted \n",
    "\n",
    "    \"\"\"\n",
    "    potentialTranspiration= evapoTranspiration * (1 - tau)\n",
    "    return  potentialTranspiration\n"
   ]
  },
  {
   "cell_type": "markdown",
   "metadata": {},
   "source": [
    "## Run the model with a set of parameters.\n",
    "Each run will be defined in its own cell."
   ]
  },
  {
   "cell_type": "code",
   "execution_count": null,
   "metadata": {},
   "outputs": [],
   "source": [
    "params= potentialtranspiration(\n",
    "    tau = 0.9983,\n",
    "    evapoTranspiration = 830.958,\n",
    "     )\n",
    "print('potentialTranspiration_estimated =')\n",
    "print(round(params, 3))\n",
    "# potentialTranspiration_computed = 1.413"
   ]
  }
 ],
 "metadata": {},
 "nbformat": 4,
 "nbformat_minor": 2
}
