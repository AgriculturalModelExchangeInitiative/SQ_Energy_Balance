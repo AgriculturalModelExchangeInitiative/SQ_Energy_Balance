{
 "cells": [
  {
   "cell_type": "markdown",
   "metadata": {},
   "source": [
    "# Automatic generation of Notebook using PyCropML\n",
    "This notebook implements a crop model."
   ]
  },
  {
   "cell_type": "code",
   "execution_count": null,
   "metadata": {},
   "outputs": [],
   "source": [
    "import numpy as np \n",
    "from copy import copy\n",
    "from math import *\n",
    "\n",
    "def priestlytaylor(netRadiationEquivalentEvaporation=638.142,\n",
    "                   hslope=0.584,\n",
    "                   psychrometricConstant=0.66,\n",
    "                   Alpha=1.5):\n",
    "    \"\"\"\n",
    "\n",
    "\n",
    "    evapoTranspirationPriestlyTaylor  Model\n",
    "    Author: Pierre Martre\n",
    "    Reference: Modelling energy balance in the wheat crop model SiriusQuality2:\n",
    "            Evapotranspiration and canopy and soil temperature calculations\n",
    "    Institution: INRA Montpellier\n",
    "    Abstract: Calculate Energy Balance \n",
    "\n",
    "    \"\"\"\n",
    "    evapoTranspirationPriestlyTaylor = max((Alpha * hslope * (netRadiationEquivalentEvaporation) / (hslope + psychrometricConstant)), 0)\n",
    "    return  evapoTranspirationPriestlyTaylor\n"
   ]
  },
  {
   "cell_type": "markdown",
   "metadata": {},
   "source": [
    "## Run the model with a set of parameters.\n",
    "Each run will be defined in its own cell."
   ]
  },
  {
   "cell_type": "code",
   "execution_count": null,
   "metadata": {},
   "outputs": [],
   "source": [
    "params= priestlytaylor(\n",
    "    Alpha = 1.5,\n",
    "    netRadiationEquivalentEvaporation = 638.142,\n",
    "     )\n",
    "print('evapoTranspirationPriestlyTaylor_estimated =')\n",
    "print(round(params, 3))\n",
    "# evapoTranspirationPriestlyTaylor_computed = 449.367"
   ]
  }
 ],
 "metadata": {},
 "nbformat": 4,
 "nbformat_minor": 2
}
