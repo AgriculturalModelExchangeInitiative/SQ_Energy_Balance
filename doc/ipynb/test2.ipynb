{
 "cells": [
  {
   "cell_type": "markdown",
   "metadata": {},
   "source": [
    "# Automatic generation of Notebook using PyCropML\n",
    "This notebook implements a crop model."
   ]
  },
  {
   "cell_type": "code",
   "execution_count": null,
   "metadata": {},
   "outputs": [],
   "source": [
    "import numpy as np \n",
    "from copy import copy\n",
    "from math import *\n",
    "\n",
    "def cropheatflux(netRadiationEquivalentEvaporation=638.142,\n",
    "                 soilHeatFlux=188.817,\n",
    "                 potentialTranspiration=1.413):\n",
    "    \"\"\"\n",
    "\n",
    "\n",
    "    CropHeatFlux Model\n",
    "    Author: Pierre Martre\n",
    "    Reference: abModelling energy balance in the wheat crop model SiriusQuality2:\n",
    "            Evapotranspiration and canopy and soil temperature calculations\n",
    "    Institution: INRA/LEPSE Montpellier\n",
    "    Abstract: It is calculated from net Radiation, soil heat flux and potential transpiration \n",
    "\n",
    "    \"\"\"\n",
    "    cropHeatFlux = netRadiationEquivalentEvaporation - soilHeatFlux - potentialTranspiration\n",
    "    return  cropHeatFlux\n"
   ]
  },
  {
   "cell_type": "markdown",
   "metadata": {},
   "source": [
    "## Run the model with a set of parameters.\n",
    "Each run will be defined in its own cell."
   ]
  },
  {
   "cell_type": "code",
   "execution_count": null,
   "metadata": {},
   "outputs": [],
   "source": [
    "params= cropheatflux(\n",
    "    soilHeatFlux = 188.817,\n",
    "    potentialTranspiration =  1.413,\n",
    "    netRadiationEquivalentEvaporation = 638.142,\n",
    "     )\n",
    "print('cropHeatFlux_estimated =')\n",
    "print(round(params, 3))\n",
    "# cropHeatFlux_computed =  447.912"
   ]
  }
 ],
 "metadata": {},
 "nbformat": 4,
 "nbformat_minor": 2
}
