{
 "cells": [
  {
   "cell_type": "markdown",
   "metadata": {},
   "source": [
    "# Automatic generation of Notebook using PyCropML\n",
    "    This notebook implements a crop model."
   ]
  },
  {
   "cell_type": "markdown",
   "metadata": {},
   "source": [
    "### Domain Class EnergybalanceAuxiliary"
   ]
  },
  {
   "cell_type": "code",
   "execution_count": null,
   "metadata": {},
   "outputs": [],
   "source": [
    "#include \"EnergybalanceAuxiliary.h\"\n",
    "EnergybalanceAuxiliary::EnergybalanceAuxiliary() { }\n",
    "\n",
    "double EnergybalanceAuxiliary::getminTair() {return this-> minTair; }\n",
    "double EnergybalanceAuxiliary::getmaxTair() {return this-> maxTair; }\n",
    "double EnergybalanceAuxiliary::getsolarRadiation() {return this-> solarRadiation; }\n",
    "double EnergybalanceAuxiliary::getvaporPressure() {return this-> vaporPressure; }\n",
    "double EnergybalanceAuxiliary::getextraSolarRadiation() {return this-> extraSolarRadiation; }\n",
    "double EnergybalanceAuxiliary::gethslope() {return this-> hslope; }\n",
    "double EnergybalanceAuxiliary::getplantHeight() {return this-> plantHeight; }\n",
    "double EnergybalanceAuxiliary::getwind() {return this-> wind; }\n",
    "double EnergybalanceAuxiliary::getdeficitOnTopLayers() {return this-> deficitOnTopLayers; }\n",
    "double EnergybalanceAuxiliary::getVPDair() {return this-> VPDair; }\n",
    "double EnergybalanceAuxiliary::getnetRadiation() {return this-> netRadiation; }\n",
    "double EnergybalanceAuxiliary::getnetOutGoingLongWaveRadiation() {return this-> netOutGoingLongWaveRadiation; }\n",
    "double EnergybalanceAuxiliary::getnetRadiationEquivalentEvaporation() {return this-> netRadiationEquivalentEvaporation; }\n",
    "double EnergybalanceAuxiliary::getenergyLimitedEvaporation() {return this-> energyLimitedEvaporation; }\n",
    "double EnergybalanceAuxiliary::getsoilEvaporation() {return this-> soilEvaporation; }\n",
    "\n",
    "void EnergybalanceAuxiliary::setminTair(double _minTair) { this->minTair = _minTair; }\n",
    "void EnergybalanceAuxiliary::setmaxTair(double _maxTair) { this->maxTair = _maxTair; }\n",
    "void EnergybalanceAuxiliary::setsolarRadiation(double _solarRadiation) { this->solarRadiation = _solarRadiation; }\n",
    "void EnergybalanceAuxiliary::setvaporPressure(double _vaporPressure) { this->vaporPressure = _vaporPressure; }\n",
    "void EnergybalanceAuxiliary::setextraSolarRadiation(double _extraSolarRadiation) { this->extraSolarRadiation = _extraSolarRadiation; }\n",
    "void EnergybalanceAuxiliary::sethslope(double _hslope) { this->hslope = _hslope; }\n",
    "void EnergybalanceAuxiliary::setplantHeight(double _plantHeight) { this->plantHeight = _plantHeight; }\n",
    "void EnergybalanceAuxiliary::setwind(double _wind) { this->wind = _wind; }\n",
    "void EnergybalanceAuxiliary::setdeficitOnTopLayers(double _deficitOnTopLayers) { this->deficitOnTopLayers = _deficitOnTopLayers; }\n",
    "void EnergybalanceAuxiliary::setVPDair(double _VPDair) { this->VPDair = _VPDair; }\n",
    "void EnergybalanceAuxiliary::setnetRadiation(double _netRadiation) { this->netRadiation = _netRadiation; }\n",
    "void EnergybalanceAuxiliary::setnetOutGoingLongWaveRadiation(double _netOutGoingLongWaveRadiation) { this->netOutGoingLongWaveRadiation = _netOutGoingLongWaveRadiation; }\n",
    "void EnergybalanceAuxiliary::setnetRadiationEquivalentEvaporation(double _netRadiationEquivalentEvaporation) { this->netRadiationEquivalentEvaporation = _netRadiationEquivalentEvaporation; }\n",
    "void EnergybalanceAuxiliary::setenergyLimitedEvaporation(double _energyLimitedEvaporation) { this->energyLimitedEvaporation = _energyLimitedEvaporation; }\n",
    "void EnergybalanceAuxiliary::setsoilEvaporation(double _soilEvaporation) { this->soilEvaporation = _soilEvaporation; }"
   ]
  },
  {
   "cell_type": "markdown",
   "metadata": {},
   "source": [
    "### Domain Class EnergybalanceRate"
   ]
  },
  {
   "cell_type": "code",
   "execution_count": null,
   "metadata": {},
   "outputs": [],
   "source": [
    "#include \"EnergybalanceRate.h\"\n",
    "EnergybalanceRate::EnergybalanceRate() { }\n",
    "\n",
    "double EnergybalanceRate::getevapoTranspirationPriestlyTaylor() {return this-> evapoTranspirationPriestlyTaylor; }\n",
    "double EnergybalanceRate::getevapoTranspirationPenman() {return this-> evapoTranspirationPenman; }\n",
    "double EnergybalanceRate::getevapoTranspiration() {return this-> evapoTranspiration; }\n",
    "double EnergybalanceRate::getpotentialTranspiration() {return this-> potentialTranspiration; }\n",
    "double EnergybalanceRate::getsoilHeatFlux() {return this-> soilHeatFlux; }\n",
    "double EnergybalanceRate::getcropHeatFlux() {return this-> cropHeatFlux; }\n",
    "\n",
    "void EnergybalanceRate::setevapoTranspirationPriestlyTaylor(double _evapoTranspirationPriestlyTaylor) { this->evapoTranspirationPriestlyTaylor = _evapoTranspirationPriestlyTaylor; }\n",
    "void EnergybalanceRate::setevapoTranspirationPenman(double _evapoTranspirationPenman) { this->evapoTranspirationPenman = _evapoTranspirationPenman; }\n",
    "void EnergybalanceRate::setevapoTranspiration(double _evapoTranspiration) { this->evapoTranspiration = _evapoTranspiration; }\n",
    "void EnergybalanceRate::setpotentialTranspiration(double _potentialTranspiration) { this->potentialTranspiration = _potentialTranspiration; }\n",
    "void EnergybalanceRate::setsoilHeatFlux(double _soilHeatFlux) { this->soilHeatFlux = _soilHeatFlux; }\n",
    "void EnergybalanceRate::setcropHeatFlux(double _cropHeatFlux) { this->cropHeatFlux = _cropHeatFlux; }"
   ]
  },
  {
   "cell_type": "markdown",
   "metadata": {},
   "source": [
    "### Domain Class EnergybalanceState"
   ]
  },
  {
   "cell_type": "code",
   "execution_count": null,
   "metadata": {},
   "outputs": [],
   "source": [
    "#include \"EnergybalanceState.h\"\n",
    "EnergybalanceState::EnergybalanceState() { }\n",
    "\n",
    "double EnergybalanceState::getdiffusionLimitedEvaporation() {return this-> diffusionLimitedEvaporation; }\n",
    "double EnergybalanceState::getconductance() {return this-> conductance; }\n",
    "double EnergybalanceState::getminCanopyTemperature() {return this-> minCanopyTemperature; }\n",
    "double EnergybalanceState::getmaxCanopyTemperature() {return this-> maxCanopyTemperature; }\n",
    "\n",
    "void EnergybalanceState::setdiffusionLimitedEvaporation(double _diffusionLimitedEvaporation) { this->diffusionLimitedEvaporation = _diffusionLimitedEvaporation; }\n",
    "void EnergybalanceState::setconductance(double _conductance) { this->conductance = _conductance; }\n",
    "void EnergybalanceState::setminCanopyTemperature(double _minCanopyTemperature) { this->minCanopyTemperature = _minCanopyTemperature; }\n",
    "void EnergybalanceState::setmaxCanopyTemperature(double _maxCanopyTemperature) { this->maxCanopyTemperature = _maxCanopyTemperature; }"
   ]
  },
  {
   "cell_type": "markdown",
   "metadata": {},
   "source": [
    "### Model Netradiationequivalentevaporation"
   ]
  },
  {
   "cell_type": "code",
   "execution_count": null,
   "metadata": {},
   "outputs": [],
   "source": [
    "#define _USE_MATH_DEFINES\n",
    "#include <cmath>\n",
    "#include <iostream>\n",
    "# include<vector>\n",
    "# include<string>\n",
    "# include<numeric>\n",
    "# include<algorithm>\n",
    "# include<array>\n",
    "#include <map>\n",
    "# include <tuple>\n",
    "#include \"Netradiationequivalentevaporation.h\"\n",
    "using namespace std;\n",
    "\n",
    "Netradiationequivalentevaporation::Netradiationequivalentevaporation() { }\n",
    "double Netradiationequivalentevaporation::getlambdaV() {return this-> lambdaV; }\n",
    "void Netradiationequivalentevaporation::setlambdaV(double _lambdaV) { this->lambdaV = _lambdaV; }\n",
    "void Netradiationequivalentevaporation::Calculate_Model(EnergybalanceState& s, EnergybalanceState& s1, EnergybalanceRate& r, EnergybalanceAuxiliary& a)\n",
    "{\n",
    "    //- Name: NetRadiationEquivalentEvaporation -Version: 1.0, -Time step: 1\n",
    "    //- Description:\n",
    "    //            * Title: NetRadiationEquivalentEvaporation Model\n",
    "    //            * Author: Pierre Martre\n",
    "    //            * Reference: Modelling energy balance in the wheat crop model SiriusQuality2:\n",
    "    //            Evapotranspiration and canopy and soil temperature calculations\n",
    "    //            * Institution: INRA/LEPSE Montpellier\n",
    "    //            * Abstract:  It is given by dividing net radiation by latent heat of vaporization of water \n",
    "    //- inputs:\n",
    "    //            * name: lambdaV\n",
    "    //                          ** description : latent heat of vaporization of water\n",
    "    //                          ** parametercategory : constant\n",
    "    //                          ** datatype : DOUBLE\n",
    "    //                          ** default : 2.454\n",
    "    //                          ** min : 0\n",
    "    //                          ** max : 10\n",
    "    //                          ** unit : MJ kg-1\n",
    "    //                          ** uri : http://www1.clermont.inra.fr/siriusquality/?page_id=547\n",
    "    //                          ** inputtype : parameter\n",
    "    //            * name: netRadiation\n",
    "    //                          ** description : net radiation\n",
    "    //                          ** variablecategory : state\n",
    "    //                          ** datatype : DOUBLE\n",
    "    //                          ** default : 1.566\n",
    "    //                          ** min : 0\n",
    "    //                          ** max : 5000\n",
    "    //                          ** unit : MJ m-2 d-1\n",
    "    //                          ** uri : http://www1.clermont.inra.fr/siriusquality/?page_id=547\n",
    "    //                          ** inputtype : variable\n",
    "    //- outputs:\n",
    "    //            * name: netRadiationEquivalentEvaporation\n",
    "    //                          ** variablecategory : auxiliary\n",
    "    //                          ** description : net Radiation in Equivalent Evaporation \n",
    "    //                          ** datatype : DOUBLE\n",
    "    //                          ** min : 0\n",
    "    //                          ** max : 5000\n",
    "    //                          ** unit : g m-2 d-1\n",
    "    //                          ** uri : http://www1.clermont.inra.fr/siriusquality/?page_id=547\n",
    "    double netRadiation = s.getnetRadiation();\n",
    "    double netRadiationEquivalentEvaporation;\n",
    "    netRadiationEquivalentEvaporation = netRadiation / lambdaV * 1000.0d;\n",
    "    a.setnetRadiationEquivalentEvaporation(netRadiationEquivalentEvaporation);\n",
    "}"
   ]
  },
  {
   "cell_type": "code",
   "execution_count": null,
   "metadata": {},
   "outputs": [],
   "source": [
    "class Test\n",
    "{\n",
    "    EnergybalanceState s = new EnergybalanceState();\n",
    "    EnergybalanceState s1 = new EnergybalanceState();\n",
    "    EnergybalanceRate r = new EnergybalanceRate();\n",
    "    EnergybalanceAuxiliary a = new EnergybalanceAuxiliary();\n",
    "    Netradiationequivalentevaporation mod = new Netradiationequivalentevaporation();\n",
    "    //first);\n",
    "    //test1\n",
    "\n",
    "    public void test1()\n",
    "    {\n",
    "        s.netRadiation = 1.566D;\n",
    "        mod.lambdaV = 2.454D;\n",
    "        mod.Calculate_netradiationequivalentevaporation(s,s1, r, a);\n",
    "        //netRadiationEquivalentEvaporation: 638.142;\n",
    "        Console.WriteLine(\"netRadiationEquivalentEvaporation estimated :\");\n",
    "        Console.WriteLine(a.netRadiationEquivalentEvaporation);\n",
    "    }\n",
    "}\n",
    "Test t = new Test();\n",
    "t.test1();\n"
   ]
  }
 ],
 "metadata": {},
 "nbformat": 4,
 "nbformat_minor": 4
}
